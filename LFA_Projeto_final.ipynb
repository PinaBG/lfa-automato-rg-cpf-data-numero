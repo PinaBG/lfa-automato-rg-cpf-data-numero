{
  "nbformat": 4,
  "nbformat_minor": 0,
  "metadata": {
    "colab": {
      "provenance": [],
      "include_colab_link": true
    },
    "kernelspec": {
      "name": "python3",
      "display_name": "Python 3"
    },
    "language_info": {
      "name": "python"
    }
  },
  "cells": [
    {
      "cell_type": "markdown",
      "metadata": {
        "id": "view-in-github",
        "colab_type": "text"
      },
      "source": [
        "<a href=\"https://colab.research.google.com/github/PinaBG/lfa-automato-rg-cpf-data-numero/blob/main/LFA_Projeto_final.ipynb\" target=\"_parent\"><img src=\"https://colab.research.google.com/assets/colab-badge.svg\" alt=\"Open In Colab\"/></a>"
      ]
    },
    {
      "cell_type": "markdown",
      "source": [
        "# **Linguagens Formais e Autômatos [2024.Q1]**\n",
        "Nome: Bruno Gabriel Nascimento Pina . RA: 11201921643\n",
        "\n",
        "Nome: Gabriela de Cassia Nunes Silva . RA: 11201811109\n",
        "\n",
        "Nome: João Pedro Silveira Dias . RA: 11202021661\n"
      ],
      "metadata": {
        "id": "RCPLU_ST-xLW"
      }
    },
    {
      "cell_type": "code",
      "execution_count": null,
      "metadata": {
        "id": "LZaTvsd7-WxT",
        "colab": {
          "base_uri": "https://localhost:8080/"
        },
        "outputId": "55be6ee7-aeb5-43e7-9c3f-98731544aec5"
      },
      "outputs": [
        {
          "output_type": "stream",
          "name": "stdout",
          "text": [
            "Requirement already satisfied: automathon in /usr/local/lib/python3.10/dist-packages (0.0.13)\n",
            "Requirement already satisfied: graphviz==0.16 in /usr/local/lib/python3.10/dist-packages (from automathon) (0.16)\n"
          ]
        }
      ],
      "source": [
        "!pip install automathon --upgrade"
      ]
    },
    {
      "cell_type": "markdown",
      "source": [
        "AUTOMATO RG, CPF, DATA E TELEFONE"
      ],
      "metadata": {
        "id": "4ji_tjjewngJ"
      }
    },
    {
      "cell_type": "code",
      "source": [
        "from automathon import DFA\n",
        "\n",
        "Q = {'q0', 'q1', 'q2', 'q3','q4','q5','q6','q7','q8','q9','q10','q11','q12','q13','q14',\n",
        "      'q15','q16','q17','q18','q19','q20','q21','q22','q23','q24','q25','q26','q27','q28',\n",
        "      'q29','q30','q31','q32','q33','q34','q35','q36','q37','q38','q39','q40','q41','q42',\n",
        "      'q43','q44','q45','q46','q47','q48','q49','q50','q51','q52','q53','q54','q55','q56'}\n",
        "sigma = {'(',')','/','-','.','0','1','2','3','4','5','6','7','8','9'}\n",
        "\n",
        "transição_rg_cpf_data_tel = {\n",
        "    'q0': {'(' : 'q30','0' : 'q1','1' : 'q1','2' : 'q1','3' : 'q1','4' : 'q1','5' : 'q1','6' : 'q1','7' : 'q1','8' : 'q1','9' : 'q1'},\n",
        "    'q1': {'0' : 'q2','1' : 'q2','2' : 'q2','3' : 'q2','4' : 'q2','5' : 'q2','6' : 'q2','7' : 'q2','8' : 'q2','9' : 'q2'},\n",
        "    'q2': {'/' : 'q25','.' : 'q15','0' : 'q3', '1' : 'q3','2' : 'q3','3' : 'q3','4' : 'q3','5' : 'q3','6' : 'q3','7' : 'q3','8' : 'q3','9' : 'q3'},\n",
        "    'q3': {'.' : 'q4','0' : 'q44','1' : 'q44','2' : 'q44','3' : 'q44','4' : 'q44','5' : 'q44','6' : 'q44','7' : 'q44','8' : 'q44','9' : 'q44'},\n",
        "    'q4': {'0' : 'q5','1' : 'q5','2' : 'q5','3' : 'q5','4' : 'q5','5' : 'q5','6' : 'q5','7' : 'q5','8' : 'q5','9' : 'q5'},\n",
        "    'q5': {'0' : 'q6','1' : 'q6','2' : 'q6','3' : 'q6','4' : 'q6','5' : 'q6','6' : 'q6','7' : 'q6','8' : 'q6','9' : 'q6'},\n",
        "    'q6': {'0' : 'q7','1' : 'q7','2' : 'q7','3' : 'q7','4' : 'q7','5' : 'q7','6' : 'q7','7' : 'q7','8' : 'q7','9' : 'q7'},\n",
        "    'q7': {'.' : 'q8'},\n",
        "    'q8': {'0' : 'q9','1' : 'q9','2' : 'q9','3' : 'q9','4' : 'q9','5' : 'q9','6' : 'q9','7' : 'q9','8' : 'q9','9' : 'q9'},\n",
        "    'q9': {'0' : 'q10','1' : 'q10','2' : 'q10','3' : 'q10','4' : 'q10','5' : 'q10','6' : 'q10','7' : 'q10','8' : 'q10','9' : 'q10'},\n",
        "    'q10': {'0' : 'q11','1' : 'q11','2' : 'q11','3' : 'q11','4' : 'q11','5' : 'q11','6' : 'q11','7' : 'q11','8' : 'q11','9' : 'q11'},\n",
        "    'q11': {'-' : 'q12'},\n",
        "    'q12': {'0' : 'q13','1' : 'q13','2' : 'q13','3' : 'q13','4' : 'q13','5' : 'q13','6' : 'q13','7' : 'q13','8' : 'q13','9' : 'q13'},\n",
        "    'q13': {'0' : 'q14','1' : 'q14','2' : 'q14','3' : 'q14','4' : 'q14','5' : 'q14','6' : 'q14','7' : 'q14','8' : 'q14','9' : 'q14'},\n",
        "\n",
        "    'q15': {'0' : 'q16','1' : 'q16','2' : 'q16','3' : 'q16','4' : 'q16','5' : 'q16','6' : 'q16','7' : 'q16','8' : 'q16','9' : 'q16'},\n",
        "    'q16': {'0' : 'q17','1' : 'q17','2' : 'q17','3' : 'q17','4' : 'q17','5' : 'q17','6' : 'q17','7' : 'q17','8' : 'q17','9' : 'q17'},\n",
        "    'q17': {'0' : 'q18','1' : 'q18','2' : 'q18','3' : 'q18','4' : 'q18','5' : 'q18','6' : 'q18','7' : 'q18','8' : 'q18','9' : 'q18'},\n",
        "    'q18': {'.' : 'q19'},\n",
        "    'q19': {'0': 'q20', '1': 'q20', '2': 'q20', '3': 'q20', '4': 'q20', '5': 'q20', '6': 'q20', '7': 'q20', '8': 'q20', '9': 'q20'},\n",
        "    'q20': {'0': 'q21', '1': 'q21', '2': 'q21', '3': 'q21', '4': 'q21', '5': 'q21', '6': 'q21', '7': 'q21', '8': 'q21', '9': 'q21'},\n",
        "    'q21': {'0': 'q22', '1': 'q22', '2': 'q22', '3': 'q22', '4': 'q22', '5': 'q22', '6': 'q22', '7': 'q22', '8': 'q22', '9': 'q22'},\n",
        "    'q22': {'-' : 'q23'},\n",
        "    'q23': {'0': 'q24', '1': 'q24', '2': 'q24', '3': 'q24', '4': 'q24', '5': 'q24', '6': 'q24', '7': 'q24', '8': 'q24', '9': 'q24'},\n",
        "\n",
        "    'q25': {'0': 'q26', '1': 'q26', '2': 'q26', '3': 'q26', '4': 'q26', '5': 'q26', '6': 'q26', '7': 'q26', '8': 'q26', '9': 'q26'},\n",
        "    'q26': {'0': 'q27', '1': 'q27', '2': 'q27', '3': 'q27', '4': 'q27', '5': 'q27', '6': 'q27', '7': 'q27', '8': 'q27', '9': 'q27'},\n",
        "    'q27': {'/' : 'q28'},\n",
        "    'q28': {'0': 'q29', '1': 'q29', '2': 'q29', '3': 'q29', '4': 'q29', '5': 'q29', '6': 'q29', '7': 'q29', '8': 'q29', '9': 'q29'},\n",
        "    'q29': {'0': 'q29', '1': 'q29', '2': 'q29', '3': 'q29', '4': 'q29', '5': 'q29', '6': 'q29', '7': 'q29', '8': 'q29', '9': 'q29'},\n",
        "    'q30': {'0': 'q31', '1': 'q31', '2': 'q31', '3': 'q31', '4': 'q31', '5': 'q31', '6': 'q31', '7': 'q31', '8': 'q31', '9': 'q31'},\n",
        "    'q31': {'0': 'q32', '1': 'q32', '2': 'q32', '3': 'q32', '4': 'q32', '5': 'q32', '6': 'q32', '7': 'q32', '8': 'q32', '9': 'q32'},\n",
        "    'q32': {')' : 'q33'},\n",
        "    'q33': {'0': 'q34', '1': 'q34', '2': 'q34', '3': 'q34', '4': 'q34', '5': 'q34', '6': 'q34', '7': 'q34', '8': 'q34', '9': 'q34'},\n",
        "    'q34': {'0': 'q35', '1': 'q35', '2': 'q35', '3': 'q35', '4': 'q35', '5': 'q35', '6': 'q35', '7': 'q35', '8': 'q35', '9': 'q35'},\n",
        "    'q35': {'0': 'q36', '1': 'q36', '2': 'q36', '3': 'q36', '4': 'q36', '5': 'q36', '6': 'q36', '7': 'q36', '8': 'q36', '9': 'q36'},\n",
        "    'q36': {'0': 'q37', '1': 'q37', '2': 'q37', '3': 'q37', '4': 'q37', '5': 'q37', '6': 'q37', '7': 'q37', '8': 'q37', '9': 'q37'},\n",
        "    'q37': {'-' : 'q38','0': 'q39', '1': 'q39', '2': 'q39', '3': 'q39', '4': 'q39', '5': 'q39', '6': 'q39', '7': 'q39', '8': 'q39', '9': 'q39'},\n",
        "    'q38': {'0': 'q40', '1': 'q40', '2': 'q40', '3': 'q40', '4': 'q40', '5': 'q40', '6': 'q40', '7': 'q40', '8': 'q40', '9': 'q40'},\n",
        "    'q39': {'-' : 'q38'},\n",
        "    'q40': {'0': 'q41', '1': 'q41', '2': 'q41', '3': 'q41', '4': 'q41', '5': 'q41', '6': 'q41', '7': 'q41', '8': 'q41', '9': 'q41'},\n",
        "    'q41': {'0': 'q42', '1': 'q42', '2': 'q42', '3': 'q42', '4': 'q42', '5': 'q42', '6': 'q42', '7': 'q42', '8': 'q42', '9': 'q42'},\n",
        "    'q42': {'0': 'q43', '1': 'q43', '2': 'q43', '3': 'q43', '4': 'q43', '5': 'q43', '6': 'q43', '7': 'q43', '8': 'q43', '9': 'q43'},\n",
        "\n",
        "    'q44': {'-' : 'q45','0': 'q46', '1': 'q46', '2': 'q46', '3': 'q46', '4': 'q46', '5': 'q46', '6': 'q46', '7': 'q46', '8': 'q46', '9': 'q46'},\n",
        "    'q45': {'0': 'q47', '1': 'q47', '2': 'q47', '3': 'q47', '4': 'q47', '5': 'q47', '6': 'q47', '7': 'q47', '8': 'q47', '9': 'q47'},\n",
        "    'q46': {'0': 'q51', '1': 'q51', '2': 'q51', '3': 'q51', '4': 'q51', '5': 'q51', '6': 'q51', '7': 'q51', '8': 'q51', '9': 'q51'},\n",
        "    'q47': {'0': 'q48', '1': 'q48', '2': 'q48', '3': 'q48', '4': 'q48', '5': 'q48', '6': 'q48', '7': 'q48', '8': 'q48', '9': 'q48'},\n",
        "    'q48': {'0': 'q49', '1': 'q49', '2': 'q49', '3': 'q49', '4': 'q49', '5': 'q49', '6': 'q49', '7': 'q49', '8': 'q49', '9': 'q49'},\n",
        "    'q49': {'0': 'q50', '1': 'q50', '2': 'q50', '3': 'q50', '4': 'q50', '5': 'q50', '6': 'q50', '7': 'q50', '8': 'q50', '9': 'q50'},\n",
        "\n",
        "    'q51': {'0': 'q52', '1': 'q52', '2': 'q52', '3': 'q52', '4': 'q52', '5': 'q52', '6': 'q52', '7': 'q52', '8': 'q52', '9': 'q52'},\n",
        "    'q52': {'0': 'q53', '1': 'q53', '2': 'q53', '3': 'q53', '4': 'q53', '5': 'q53', '6': 'q53', '7': 'q53', '8': 'q53', '9': 'q53'},\n",
        "    'q53': {'0': 'q54', '1': 'q54', '2': 'q54', '3': 'q54', '4': 'q54', '5': 'q54', '6': 'q54', '7': 'q54', '8': 'q54', '9': 'q54'},\n",
        "    'q54': {'0': 'q55', '1': 'q55', '2': 'q55', '3': 'q55', '4': 'q55', '5': 'q55', '6': 'q55', '7': 'q55', '8': 'q55', '9': 'q55'},\n",
        "    'q55': {'0': 'q56', '1': 'q56', '2': 'q56', '3': 'q56', '4': 'q56', '5': 'q56', '6': 'q56', '7': 'q56', '8': 'q56', '9': 'q56'},\n",
        "}\n",
        "\n",
        "initial_state = 'q0'\n",
        "F = {'q14', 'q24', 'q29', 'q43', 'q50', 'q54', 'q56'}\n",
        "\n",
        "automata = DFA(Q, sigma, transição_rg_cpf_data_tel,initial_state, F)"
      ],
      "metadata": {
        "id": "5ipR5ugSwxWj"
      },
      "execution_count": null,
      "outputs": []
    },
    {
      "cell_type": "code",
      "source": [
        "automata.is_valid()"
      ],
      "metadata": {
        "colab": {
          "base_uri": "https://localhost:8080/"
        },
        "id": "KpBMjg6GG1_d",
        "outputId": "0dfc5533-b0d4-48f9-c8e7-fe09c291a70f"
      },
      "execution_count": null,
      "outputs": [
        {
          "output_type": "execute_result",
          "data": {
            "text/plain": [
              "True"
            ]
          },
          "metadata": {},
          "execution_count": 45
        }
      ]
    },
    {
      "cell_type": "code",
      "source": [
        "automata.accept(\"552.221.433-77\")"
      ],
      "metadata": {
        "colab": {
          "base_uri": "https://localhost:8080/"
        },
        "id": "RzuLvzETG9-s",
        "outputId": "562bebce-ed12-4680-adca-5c5ebdf20877"
      },
      "execution_count": null,
      "outputs": [
        {
          "output_type": "execute_result",
          "data": {
            "text/plain": [
              "True"
            ]
          },
          "metadata": {},
          "execution_count": 46
        }
      ]
    },
    {
      "cell_type": "code",
      "source": [
        "automata.accept(\"552221433777456\")"
      ],
      "metadata": {
        "colab": {
          "base_uri": "https://localhost:8080/"
        },
        "id": "5pL87OLEHK70",
        "outputId": "ebc7ac00-489c-491b-c8ad-abf49e97066e"
      },
      "execution_count": null,
      "outputs": [
        {
          "output_type": "execute_result",
          "data": {
            "text/plain": [
              "False"
            ]
          },
          "metadata": {},
          "execution_count": 47
        }
      ]
    },
    {
      "cell_type": "code",
      "source": [
        "automata.accept(\"22/04/2012\")"
      ],
      "metadata": {
        "colab": {
          "base_uri": "https://localhost:8080/"
        },
        "id": "Z-PCWzd1HWtz",
        "outputId": "5b07c6c1-0916-4210-9820-8aba82f9c344"
      },
      "execution_count": null,
      "outputs": [
        {
          "output_type": "execute_result",
          "data": {
            "text/plain": [
              "True"
            ]
          },
          "metadata": {},
          "execution_count": 48
        }
      ]
    },
    {
      "cell_type": "code",
      "source": [
        "automata.accept(\"2223/04/2012\")"
      ],
      "metadata": {
        "colab": {
          "base_uri": "https://localhost:8080/"
        },
        "id": "1f4dM4VIH0-T",
        "outputId": "a0eed843-ea17-4a9e-e1af-b82b8840418c"
      },
      "execution_count": null,
      "outputs": [
        {
          "output_type": "execute_result",
          "data": {
            "text/plain": [
              "False"
            ]
          },
          "metadata": {},
          "execution_count": 49
        }
      ]
    },
    {
      "cell_type": "code",
      "source": [
        "automata.accept(\"(11)93403-3421\")"
      ],
      "metadata": {
        "colab": {
          "base_uri": "https://localhost:8080/"
        },
        "id": "-jw8onbEHgVy",
        "outputId": "559b291c-4c2d-4245-fd2d-685fe30571c2"
      },
      "execution_count": null,
      "outputs": [
        {
          "output_type": "execute_result",
          "data": {
            "text/plain": [
              "True"
            ]
          },
          "metadata": {},
          "execution_count": 50
        }
      ]
    },
    {
      "cell_type": "code",
      "source": [
        "automata.accept(\"(11)93403-34212\")"
      ],
      "metadata": {
        "colab": {
          "base_uri": "https://localhost:8080/"
        },
        "id": "7gNivhNmHlhq",
        "outputId": "a9876262-1b83-4925-f8a4-3266b18cdb9c"
      },
      "execution_count": null,
      "outputs": [
        {
          "output_type": "execute_result",
          "data": {
            "text/plain": [
              "False"
            ]
          },
          "metadata": {},
          "execution_count": 51
        }
      ]
    },
    {
      "cell_type": "code",
      "source": [
        "# estilo personalizado\n",
        "automata.view(\n",
        "    file_name=\"afd_personalizado\",\n",
        "    node_attr={'fontsize': '20'},\n",
        "    edge_attr={'fontsize': '20pt'}\n",
        ")"
      ],
      "metadata": {
        "id": "fZStOW64IMJB"
      },
      "execution_count": null,
      "outputs": []
    }
  ]
}